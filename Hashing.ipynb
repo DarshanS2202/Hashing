{
  "nbformat": 4,
  "nbformat_minor": 0,
  "metadata": {
    "colab": {
      "name": "Hashing.ipynb",
      "provenance": [],
      "collapsed_sections": [],
      "authorship_tag": "ABX9TyNUwNdTq91oodLyZT2rGSeQ",
      "include_colab_link": true
    },
    "kernelspec": {
      "name": "python3",
      "display_name": "Python 3"
    },
    "language_info": {
      "name": "python"
    }
  },
  "cells": [
    {
      "cell_type": "markdown",
      "metadata": {
        "id": "view-in-github",
        "colab_type": "text"
      },
      "source": [
        "<a href=\"https://colab.research.google.com/github/DarshanS2202/Hashing/blob/main/Hashing.ipynb\" target=\"_parent\"><img src=\"https://colab.research.google.com/assets/colab-badge.svg\" alt=\"Open In Colab\"/></a>"
      ]
    },
    {
      "cell_type": "markdown",
      "metadata": {
        "id": "cza5TQHwsQeu"
      },
      "source": [
        "Assignment 1 : Generate MD5 of string data"
      ]
    },
    {
      "cell_type": "code",
      "metadata": {
        "colab": {
          "base_uri": "https://localhost:8080/"
        },
        "id": "pGxeSe1ur1cN",
        "outputId": "2c4fc5bf-0e25-4ed2-b90a-3792b52630c0"
      },
      "source": [
        "import hashlib\n",
        "\n",
        "a=input()\n",
        "b=hashlib.md5(a.encode())\n",
        "print(b.digest())"
      ],
      "execution_count": 1,
      "outputs": [
        {
          "output_type": "stream",
          "text": [
            "darshan\n",
            "b'@o\\x84\\xc0\\x87\\x7f\\x95t\\xa5)[\\xb8\\xf4\\xd0\\xeeo'\n"
          ],
          "name": "stdout"
        }
      ]
    },
    {
      "cell_type": "markdown",
      "metadata": {
        "id": "P6mcWGcpscoy"
      },
      "source": [
        "Assignment 2 : Generate hashes of string data using 3 hashlib algorithms"
      ]
    },
    {
      "cell_type": "code",
      "metadata": {
        "colab": {
          "base_uri": "https://localhost:8080/"
        },
        "id": "4szZGOLVscAx",
        "outputId": "55c4c921-d45e-4757-a338-b49d1e4c5d0a"
      },
      "source": [
        "import hashlib\n",
        "\n",
        "a=input()\n",
        "b=hashlib.sha256(a.encode())\n",
        "c=hashlib.sha384(a.encode())\n",
        "d=hashlib.sha224(a.encode())\n",
        "\n",
        "print(b.digest())\n",
        "print(c.digest())\n",
        "print(d.digest())\n"
      ],
      "execution_count": 9,
      "outputs": [
        {
          "output_type": "stream",
          "text": [
            "darshan\n",
            "b'd\\xa07z\\xaa\\xa9\\x10\\xf3\\x9f\\xe3\\xb8\\n\\xa4cS@\\xedm\\x90\\x143\\xa4\\xc12\\xf5\\x19\\xf5&<\\x93\\x17\\x9a'\n",
            "b'rA5\\x08\\xb6O\\xcd\\x95\\x10c\\xadi\\x18\\xe3&\\x1ez\\xaa\\x9dC|\\x7f\\xddU;\\xd0=\\xf7\\\\\\xfe\\xff\\xde\\xc8\\xeb\\xa8\\x98\\xbe\\r\\x00c\\r\\x8c\\xb5\\x04C\\xf4X\\xa9'\n",
            "b\"\\xbc\\x8aD\\xa7ot`\\x9d\\xdc.;\\xfa3\\xf0\\xce\\xdb\\x8fM\\xad\\xb8\\xbbQ\\xc9\\x1b'\\xb2\\xb1\\x8c\"\n"
          ],
          "name": "stdout"
        }
      ]
    },
    {
      "cell_type": "markdown",
      "metadata": {
        "id": "sCOypVqjzIvf"
      },
      "source": [
        "Assignment 3 : Generate hashes with salting and iteration"
      ]
    },
    {
      "cell_type": "code",
      "metadata": {
        "colab": {
          "base_uri": "https://localhost:8080/"
        },
        "id": "76kuSTu4zVKI",
        "outputId": "70124ded-1ea5-4f18-8fd4-48c931d3f994"
      },
      "source": [
        "import hashlib\n",
        "\n",
        "a=input() \n",
        "\n",
        "a=\"1\"+a+\"a\"    #1st salting\n",
        "print(\"After 1st Salting :\",a)\n",
        "b=hashlib.md5(a.encode())   #1st iteration\n",
        "c=b.digest()\n",
        "print(\"After hashing :\",c)\n",
        "\n",
        "c=\"2\"+str(c)+\"b\"    #1st salting\n",
        "print(\"After 2nd Salting :\",c)\n",
        "d=hashlib.md5(c.encode())   #1st iteration\n",
        "e=d.digest()\n",
        "print(\"After 1st iteration :\",e)"
      ],
      "execution_count": 20,
      "outputs": [
        {
          "output_type": "stream",
          "text": [
            "darshan\n",
            "After 1st Salting : 1darshana\n",
            "After hashing : b'~\\xc1\\x8e\\x95\\xdb\\xf0]\\xb9\\x16e\\xb3\\x90\\xbb!+\\x04'\n",
            "After 2nd Salting : 2b'~\\xc1\\x8e\\x95\\xdb\\xf0]\\xb9\\x16e\\xb3\\x90\\xbb!+\\x04'b\n",
            "After 1st iteration : b'\\x84\\x92\\x0e\\xddK\\xf4,\\x19iJ\\xea-2\\xcb\\xbe\\x04'\n"
          ],
          "name": "stdout"
        }
      ]
    }
  ]
}